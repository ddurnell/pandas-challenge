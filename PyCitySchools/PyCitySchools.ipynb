{
 "cells": [
  {
   "cell_type": "code",
   "execution_count": 1,
   "metadata": {},
   "outputs": [],
   "source": [
    "# Dependencies and Setup\n",
    "import pandas as pd\n",
    "import locale\n",
    "\n",
    "locale.setlocale( locale.LC_ALL, '' )\n",
    "\n",
    "# File to Load (Remember to Change These)\n",
    "school_data_to_load = \"Resources/schools_complete.csv\"\n",
    "student_data_to_load = \"Resources/students_complete.csv\"\n",
    "\n",
    "# Read School and Student Data File and store into Pandas Data Frames\n",
    "school_data = pd.read_csv(school_data_to_load)\n",
    "student_data = pd.read_csv(student_data_to_load)\n",
    "\n",
    "# print('school')\n",
    "# print(school_data.head())\n",
    "# print('student')\n",
    "# print(student_data.head())\n",
    "\n",
    "# Combine the data into a single dataset\n",
    "school_data_complete = pd.merge(student_data, school_data, how=\"left\", on=[\"school_name\"])\n",
    "# print('merged')\n",
    "# print(school_data_complete.head())\n",
    "\n",
    "# Separate out Charter and District\n",
    "district_group = school_data_complete.loc[school_data_complete['type'] == 'District']\n",
    "charter_group = school_data_complete.loc[school_data_complete['type'] == 'Charter']\n",
    "# print('district')\n",
    "# print(district_group.head())\n",
    "# print('charter')\n",
    "# print(charter_group.head())\n"
   ]
  },
  {
   "cell_type": "markdown",
   "metadata": {},
   "source": [
    "## District Summary\n",
    "\n",
    "* Calculate the total number of schools\n",
    "\n",
    "* Calculate the total number of students\n",
    "\n",
    "* Calculate the total budget\n",
    "\n",
    "* Calculate the average math score \n",
    "\n",
    "* Calculate the average reading score\n",
    "\n",
    "* Calculate the overall passing rate (overall average score), i.e. (avg. math score + avg. reading score)/2\n",
    "\n",
    "* Calculate the percentage of students with a passing math score (70 or greater)\n",
    "\n",
    "* Calculate the percentage of students with a passing reading score (70 or greater)\n",
    "\n",
    "* Create a dataframe to hold the above results\n",
    "\n",
    "* Optional: give the displayed data cleaner formatting"
   ]
  },
  {
   "cell_type": "code",
   "execution_count": 2,
   "metadata": {},
   "outputs": [],
   "source": [
    "# Calculate the total number of schools\n",
    "# Calculate the total number of students\n",
    "# Calculate the total budget\n",
    "# Calculate the average math score\n",
    "# Calculate the average reading score\n",
    "# Calculate the overall passing rate (overall average score), i.e. (avg. math score + avg. reading score)/2\n",
    "# Calculate the percentage of students with a passing math score (70 or greater)\n",
    "# Calculate the percentage of students with a passing reading score (70 or greater)\n",
    "# Create a dataframe to hold the above results\n",
    "# Optional: give the displayed data cleaner formatting\n",
    "def statistics(type_df, name, df):\n",
    "    \n",
    "    # Calculate the total number of schools\n",
    "    num_schools = df['school_name'].nunique()\n",
    "    #print(f\"There are {num_schools} schools.\")\n",
    "    #num_schools_size = df['school_name'].size\n",
    "    #print(f\"There are {num_schools} rows.\")\n",
    "\n",
    "    # Calculate the total number of students\n",
    "    num_students = df['student_name'].size\n",
    "    #print(f\"There are {num_students} students.\")\n",
    "\n",
    "    # Calculate the total budget\n",
    "    #print(name)\n",
    "    budget_df = type_df['budget'].sum()\n",
    "    # print(budget_df)\n",
    "    budget = budget_df[name]\n",
    "    #print(f\"budget is {locale.currency(budget)}\")\n",
    "    \n",
    "    # Calculate the average math score\n",
    "    math_score = df['math_score'].mean() \n",
    "    #print(f\"The average math score is {math_score}.\")\n",
    "\n",
    "    # Calculate the average reading score\n",
    "    reading_score = df['reading_score'].mean()\n",
    "    #print(f\"The average reading score is {reading_score}.\")\n",
    "\n",
    "    # Calculate the overall passing rate (overall average score)\n",
    "    passing_score = (math_score + reading_score)/2\n",
    "    #print(f\"The average passing score is {passing_score}.\")\n",
    "\n",
    "    # Calculate the percentage of students with a passing math score (70 or greater)\n",
    "    passing_math_num = (df['math_score'] >= 70).sum()\n",
    "    passing_math_avg = passing_math_num / num_students\n",
    "    #print(f\"Passing math average is {passing_math_avg}.\")\n",
    "\n",
    "    # Calculate the percentage of students with a passing reading score (70 or greater)\n",
    "    passing_read_num = (df['reading_score'] >= 70).sum()\n",
    "    passing_read_avg = passing_read_num / num_students\n",
    "    #print(f\"Passing reading average is {passing_read_avg}.\")\n",
    "\n",
    "    # TODO:\n",
    "    # Create a dataframe to hold the above results\n",
    "    results = pd.DataFrame([{'Type' : name,\n",
    "                'Number of Schools' : num_schools,\n",
    "                'Number of Students' : num_students,\n",
    "                'Budget' : budget,\n",
    "                'Average Math Score' : math_score,\n",
    "                'Average Reading Score' : reading_score,\n",
    "                'Overall Passing Average' : passing_score,\n",
    "                'Passing Math Average' : passing_math_avg,\n",
    "                'Passing Reading Average' : passing_read_avg}])\n",
    "    \n",
    "    #print(results)\n",
    "    \n",
    "    # Use Map to format all the columns\n",
    "    results[\"Budget\"] = results[\"Budget\"].map(\"${:,.0f}\".format)\n",
    "    results[\"Average Math Score\"] = results[\"Average Math Score\"].map(\"{:.2f}%\".format)\n",
    "    results[\"Average Reading Score\"] = results[\"Average Reading Score\"].map(\"{:.2f}%\".format)\n",
    "    results[\"Overall Passing Average\"] = results[\"Overall Passing Average\"].map(\"{:.2f}%\".format)\n",
    "    results[\"Passing Math Average\"] = results[\"Passing Math Average\"].map(\"{:.2f}%\".format)\n",
    "    results[\"Passing Reading Average\"] = results[\"Passing Reading Average\"].map(\"{:.2f}%\".format)\n",
    "    \n",
    "    # order the columns\n",
    "    results = results[['Type',\n",
    "                       'Number of Schools',\n",
    "                       'Number of Students',\n",
    "                       'Budget',\n",
    "                       'Average Math Score',\n",
    "                       'Average Reading Score',\n",
    "                       'Overall Passing Average',\n",
    "                       'Passing Math Average',\n",
    "                       'Passing Reading Average']]\n",
    "    \n",
    "    #print()\n",
    "\n",
    "    #print(name)\n",
    "#     results\n",
    "    #print(results)\n",
    "    \n",
    "    return results\n"
   ]
  },
  {
   "cell_type": "code",
   "execution_count": 3,
   "metadata": {
    "scrolled": true
   },
   "outputs": [
    {
     "data": {
      "text/html": [
       "<div>\n",
       "<style scoped>\n",
       "    .dataframe tbody tr th:only-of-type {\n",
       "        vertical-align: middle;\n",
       "    }\n",
       "\n",
       "    .dataframe tbody tr th {\n",
       "        vertical-align: top;\n",
       "    }\n",
       "\n",
       "    .dataframe thead th {\n",
       "        text-align: right;\n",
       "    }\n",
       "</style>\n",
       "<table border=\"1\" class=\"dataframe\">\n",
       "  <thead>\n",
       "    <tr style=\"text-align: right;\">\n",
       "      <th></th>\n",
       "      <th>Type</th>\n",
       "      <th>Number of Schools</th>\n",
       "      <th>Number of Students</th>\n",
       "      <th>Budget</th>\n",
       "      <th>Average Math Score</th>\n",
       "      <th>Average Reading Score</th>\n",
       "      <th>Overall Passing Average</th>\n",
       "      <th>Passing Math Average</th>\n",
       "      <th>Passing Reading Average</th>\n",
       "    </tr>\n",
       "  </thead>\n",
       "  <tbody>\n",
       "    <tr>\n",
       "      <th>0</th>\n",
       "      <td>District</td>\n",
       "      <td>7</td>\n",
       "      <td>26976</td>\n",
       "      <td>$17,347,923</td>\n",
       "      <td>76.99%</td>\n",
       "      <td>80.96%</td>\n",
       "      <td>78.97%</td>\n",
       "      <td>0.67%</td>\n",
       "      <td>0.81%</td>\n",
       "    </tr>\n",
       "    <tr>\n",
       "      <th>1</th>\n",
       "      <td>Charter</td>\n",
       "      <td>8</td>\n",
       "      <td>12194</td>\n",
       "      <td>$7,301,505</td>\n",
       "      <td>83.41%</td>\n",
       "      <td>83.90%</td>\n",
       "      <td>83.65%</td>\n",
       "      <td>0.94%</td>\n",
       "      <td>0.97%</td>\n",
       "    </tr>\n",
       "  </tbody>\n",
       "</table>\n",
       "</div>"
      ],
      "text/plain": [
       "       Type  Number of Schools  Number of Students       Budget  \\\n",
       "0  District                  7               26976  $17,347,923   \n",
       "1   Charter                  8               12194   $7,301,505   \n",
       "\n",
       "  Average Math Score Average Reading Score Overall Passing Average  \\\n",
       "0             76.99%                80.96%                  78.97%   \n",
       "1             83.41%                83.90%                  83.65%   \n",
       "\n",
       "  Passing Math Average Passing Reading Average  \n",
       "0                0.67%                   0.81%  \n",
       "1                0.94%                   0.97%  "
      ]
     },
     "execution_count": 3,
     "metadata": {},
     "output_type": "execute_result"
    }
   ],
   "source": [
    "# District\n",
    "\n",
    "type_df = school_data.groupby(['type'])\n",
    "\n",
    "dist_stats_df = statistics(type_df, 'District', district_group)\n",
    "#print(dist_stats_df)\n",
    "\n",
    "ch_stats_df = statistics(type_df, 'Charter', charter_group)\n",
    "#print(ch_stats_df)\n",
    "\n",
    "stats_df = pd.concat([dist_stats_df, ch_stats_df], ignore_index=True)\n",
    "stats_df\n",
    "\n",
    "\n"
   ]
  },
  {
   "cell_type": "markdown",
   "metadata": {},
   "source": [
    "## School Summary"
   ]
  },
  {
   "cell_type": "markdown",
   "metadata": {},
   "source": [
    "* Create an overview table that summarizes key metrics about each school, including:\n",
    "  * School Name\n",
    "  * School Type\n",
    "  * Total Students\n",
    "  * Total School Budget\n",
    "  * Per Student Budget\n",
    "  * Average Math Score\n",
    "  * Average Reading Score\n",
    "  * % Passing Math\n",
    "  * % Passing Reading\n",
    "  * Overall Passing Rate (Average of the above two)\n",
    "  \n",
    "* Create a dataframe to hold the above results"
   ]
  },
  {
   "cell_type": "markdown",
   "metadata": {},
   "source": [
    "## Top Performing Schools (By Passing Rate)"
   ]
  },
  {
   "cell_type": "markdown",
   "metadata": {},
   "source": [
    "* Sort and display the top five schools in overall passing rate"
   ]
  },
  {
   "cell_type": "code",
   "execution_count": null,
   "metadata": {},
   "outputs": [],
   "source": []
  },
  {
   "cell_type": "markdown",
   "metadata": {},
   "source": [
    "## Bottom Performing Schools (By Passing Rate)"
   ]
  },
  {
   "cell_type": "markdown",
   "metadata": {},
   "source": [
    "* Sort and display the five worst-performing schools"
   ]
  },
  {
   "cell_type": "code",
   "execution_count": null,
   "metadata": {},
   "outputs": [],
   "source": []
  },
  {
   "cell_type": "markdown",
   "metadata": {
    "collapsed": true
   },
   "source": [
    "## Math Scores by Grade"
   ]
  },
  {
   "cell_type": "markdown",
   "metadata": {},
   "source": [
    "* Create a table that lists the average Reading Score for students of each grade level (9th, 10th, 11th, 12th) at each school.\n",
    "\n",
    "  * Create a pandas series for each grade. Hint: use a conditional statement.\n",
    "  \n",
    "  * Group each series by school\n",
    "  \n",
    "  * Combine the series into a dataframe\n",
    "  \n",
    "  * Optional: give the displayed data cleaner formatting"
   ]
  },
  {
   "cell_type": "code",
   "execution_count": null,
   "metadata": {},
   "outputs": [],
   "source": []
  },
  {
   "cell_type": "markdown",
   "metadata": {},
   "source": [
    "## Reading Score by Grade "
   ]
  },
  {
   "cell_type": "markdown",
   "metadata": {},
   "source": [
    "* Perform the same operations as above for reading scores"
   ]
  },
  {
   "cell_type": "code",
   "execution_count": null,
   "metadata": {},
   "outputs": [],
   "source": []
  },
  {
   "cell_type": "markdown",
   "metadata": {},
   "source": [
    "## Scores by School Spending"
   ]
  },
  {
   "cell_type": "markdown",
   "metadata": {},
   "source": [
    "* Create a table that breaks down school performances based on average Spending Ranges (Per Student). Use 4 reasonable bins to group school spending. Include in the table each of the following:\n",
    "  * Average Math Score\n",
    "  * Average Reading Score\n",
    "  * % Passing Math\n",
    "  * % Passing Reading\n",
    "  * Overall Passing Rate (Average of the above two)"
   ]
  },
  {
   "cell_type": "code",
   "execution_count": 4,
   "metadata": {},
   "outputs": [],
   "source": [
    "# Sample bins. Feel free to create your own bins.\n",
    "spending_bins = [0, 585, 615, 645, 675]\n",
    "group_names = [\"<$585\", \"$585-615\", \"$615-645\", \"$645-675\"]"
   ]
  },
  {
   "cell_type": "code",
   "execution_count": null,
   "metadata": {},
   "outputs": [],
   "source": []
  },
  {
   "cell_type": "markdown",
   "metadata": {},
   "source": [
    "## Scores by School Size"
   ]
  },
  {
   "cell_type": "markdown",
   "metadata": {},
   "source": [
    "* Perform the same operations as above, based on school size."
   ]
  },
  {
   "cell_type": "code",
   "execution_count": 5,
   "metadata": {},
   "outputs": [],
   "source": [
    "# Sample bins. Feel free to create your own bins.\n",
    "size_bins = [0, 1000, 2000, 5000]\n",
    "group_names = [\"Small (<1000)\", \"Medium (1000-2000)\", \"Large (2000-5000)\"]"
   ]
  },
  {
   "cell_type": "code",
   "execution_count": null,
   "metadata": {
    "scrolled": true
   },
   "outputs": [],
   "source": []
  },
  {
   "cell_type": "markdown",
   "metadata": {},
   "source": [
    "## Scores by School Type"
   ]
  },
  {
   "cell_type": "markdown",
   "metadata": {},
   "source": [
    "* Perform the same operations as above, based on school type."
   ]
  },
  {
   "cell_type": "code",
   "execution_count": null,
   "metadata": {},
   "outputs": [],
   "source": []
  },
  {
   "cell_type": "code",
   "execution_count": null,
   "metadata": {},
   "outputs": [],
   "source": []
  }
 ],
 "metadata": {
  "anaconda-cloud": {},
  "kernel_info": {
   "name": "python3"
  },
  "kernelspec": {
   "display_name": "Python 3",
   "language": "python",
   "name": "python3"
  },
  "language_info": {
   "codemirror_mode": {
    "name": "ipython",
    "version": 3
   },
   "file_extension": ".py",
   "mimetype": "text/x-python",
   "name": "python",
   "nbconvert_exporter": "python",
   "pygments_lexer": "ipython3",
   "version": "3.7.1"
  },
  "latex_envs": {
   "LaTeX_envs_menu_present": true,
   "autoclose": false,
   "autocomplete": true,
   "bibliofile": "biblio.bib",
   "cite_by": "apalike",
   "current_citInitial": 1,
   "eqLabelWithNumbers": true,
   "eqNumInitial": 1,
   "hotkeys": {
    "equation": "Ctrl-E",
    "itemize": "Ctrl-I"
   },
   "labels_anchors": false,
   "latex_user_defs": false,
   "report_style_numbering": false,
   "user_envs_cfg": false
  },
  "nteract": {
   "version": "0.8.4"
  }
 },
 "nbformat": 4,
 "nbformat_minor": 1
}
